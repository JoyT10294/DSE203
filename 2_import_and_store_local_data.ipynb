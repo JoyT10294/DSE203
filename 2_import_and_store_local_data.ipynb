{
 "cells": [
  {
   "cell_type": "code",
   "execution_count": 3,
   "id": "2117774e",
   "metadata": {},
   "outputs": [
    {
     "name": "stderr",
     "output_type": "stream",
     "text": [
      "[nltk_data] Downloading package punkt to\n",
      "[nltk_data]     /Users/joythompson/nltk_data...\n",
      "[nltk_data]   Package punkt is already up-to-date!\n",
      "[nltk_data] Downloading package averaged_perceptron_tagger to\n",
      "[nltk_data]     /Users/joythompson/nltk_data...\n",
      "[nltk_data]   Package averaged_perceptron_tagger is already up-to-\n",
      "[nltk_data]       date!\n"
     ]
    }
   ],
   "source": [
    "import pandas as pd\n",
    "import numpy as np\n",
    "import re\n",
    "import warnings\n",
    "warnings.filterwarnings(\"ignore\")\n",
    "import math\n",
    "import os\n",
    "import datetime\n",
    "from pandas import DataFrame\n",
    "import itertools\n",
    "from bs4 import BeautifulSoup\n",
    "import urllib.request\n",
    "import requests\n",
    "import random\n",
    "import torch\n",
    "import xmltodict\n",
    "import xml.etree.ElementTree as ET\n",
    "import xml\n",
    "from xml.etree.ElementTree import parse\n",
    "from xml.parsers import expat\n",
    "from xml.dom.minidom import parse, parseString\n",
    "import psycopg2\n",
    "import PyPDF2\n",
    "import pikepdf\n",
    "from bs4 import BeautifulSoup\n",
    "import nltk\n",
    "nltk.download('punkt')\n",
    "nltk.download('averaged_perceptron_tagger')\n",
    "import re\n",
    "import spacy"
   ]
  },
  {
   "cell_type": "code",
   "execution_count": null,
   "id": "87119909",
   "metadata": {},
   "outputs": [],
   "source": [
    "def createfiledirectory(directory):\n",
    "    try:\n",
    "        if not os.path.exists(directory):\n",
    "            os.makedirs(directory)\n",
    "    except OSError:\n",
    "        print ('Error: Creating directory. ' +  directory)\n",
    "    return directory"
   ]
  },
  {
   "cell_type": "markdown",
   "id": "9f07c172",
   "metadata": {},
   "source": [
    "# **Define Functions to Import & Store Legislator-Committee Relationship Data from a Text File**"
   ]
  },
  {
   "cell_type": "code",
   "execution_count": 4,
   "id": "c973ec88",
   "metadata": {},
   "outputs": [],
   "source": [
    "#Helper Functions to loadrepdatafromxl\n",
    "def findchair(com): \n",
    "    com=com.lstrip(' ')\n",
    "    if 'vice' in com:\n",
    "        com=com.split(', vi')[0]\n",
    "        chair='vice chair'\n",
    "    elif 'chair' in com or 'chiar' in com:\n",
    "        com=com.split(', ch')[0]\n",
    "        chair='chair'\n",
    "    else:\n",
    "        chair=''\n",
    "    return com, chair\n",
    "\n",
    "def lastnamefix(lastname):\n",
    "    if \"'\" in lastname:\n",
    "        lastname=lastname.split(\"``\")[0].rstrip(' ')\n",
    "    return lastname\n",
    "\n",
    "def longnames(name):\n",
    "    if ',' in name:\n",
    "        namelist=name.replace('.', '').split(',')\n",
    "        name=namelist[0].replace('\\n','').lstrip(' ')\n",
    "        if 'of' not in namelist[1]:\n",
    "            lastname=namelist[1].lstrip(' ')\n",
    "            state=namelist[2].replace('\\n','').split('of ')[1].lstrip(' ')\n",
    "        else:\n",
    "            lastname=namelist[1].replace('\\n','').split(' of ')[0].lstrip(' ')\n",
    "            state=namelist[1].replace('\\n','').split(' of ')[1].lstrip(' ')\n",
    "        lastname=lastnamefix(lastname)\n",
    "    else:\n",
    "        lastname=''\n",
    "        state='' \n",
    "    return name, lastname, state"
   ]
  },
  {
   "cell_type": "code",
   "execution_count": 5,
   "id": "1aa3f30d",
   "metadata": {},
   "outputs": [],
   "source": [
    "#Load Committee Representative Data from Text and Store in DataFrame\n",
    "def loadrepdatafromxl(commlist):\n",
    "    reppd=pd.DataFrame(columns=['Representative Name','Last Name','State', 'Committee', 'Role'])\n",
    "    for nc in commlist.split('\\n \\n'):\n",
    "        if len(nc.replace('.,','').split('...'))>1:\n",
    "            name, lastname, state = longnames(list(filter(None, nc.replace('.,','').split('...')))[0].replace('\\n','').lstrip(' '))\n",
    "            replist=list(filter(None,list(filter(None,nc.replace('.,','').split('...')))[1].replace('  ', '').replace('\\n', '').split('.')))\n",
    "            for com in replist:\n",
    "                com, chair=findchair(com)\n",
    "                if 'Page' not in str(com):\n",
    "                    reppd=reppd.append({'Representative Name': name,'Last Name':lastname,'State':state, 'Committee': com, 'Role':chair}, ignore_index=True)\n",
    "        elif 'Page' not in str(nc.replace('.,','').split('...')):\n",
    "            replist=list(filter(None,nc.replace('.,','').split('...')[0].replace('  ', '').replace('\\n','').split('.')))\n",
    "            if 'of' not in replist[0]:\n",
    "                for com in replist:\n",
    "                    com, chair=findchair(com)\n",
    "                    reppd=reppd.append({'Representative Name': name,'Last Name':lastname,'State':state, 'Committee': com, 'Role':chair}, ignore_index=True)\n",
    "            else:\n",
    "                com, chair=findchair(replist[1].lstrip(' '))\n",
    "                reppd=reppd.append({'Representative Name': replist[0].split(',')[0],'Last Name':lastnamefix(replist[0].split(',')[1].split(' of ')[0].lstrip(' ')),\n",
    "                                    'State':replist[0].split(',')[1].split(' of ')[1],'Committee': com, 'Role':chair}, ignore_index=True)\n",
    "    return reppd"
   ]
  },
  {
   "cell_type": "markdown",
   "id": "ed979c15",
   "metadata": {},
   "source": [
    "# **Define Functions to Import & Store Primary Bill Data From Local XML Files**"
   ]
  },
  {
   "cell_type": "code",
   "execution_count": null,
   "id": "73bb7324",
   "metadata": {},
   "outputs": [],
   "source": [
    "#Helper Functions to parsexml\n",
    "def iterroot(root, rootstr, elements):\n",
    "    detlist=[]\n",
    "    if rootstr in elements:\n",
    "        for var in root.iter(rootstr):\n",
    "            detlist.append(var.text)\n",
    "    if detlist==[]:\n",
    "        detlist=['']\n",
    "    return detlist\n",
    "\n",
    "def breaknames(name, xmlnames):\n",
    "    first=''\n",
    "    last=''\n",
    "    state=''\n",
    "    if name!='':\n",
    "        if 'of ' in name:\n",
    "            state=name.split('of ')[1];\n",
    "            fullname=name.split(' of ')[0].split(' ')[1:];\n",
    "        else:\n",
    "            fullname=name.split(' ')[1:];\n",
    "        if len(fullname)==2:\n",
    "            first=fullname[0];\n",
    "            last=fullname[1];\n",
    "        elif len(fullname)==3:\n",
    "            first=fullname[0]+ ' ' + fullname[1][0];\n",
    "            last=fullname[2];\n",
    "        elif len(fullname)==4:\n",
    "            first=fullname[0]+ ' ' + fullname[1][0];\n",
    "            last=fullname[2] + ' '+ fullname[3];\n",
    "        elif len(fullname)==1:\n",
    "            last=fullname[0];\n",
    "    return first, last, state"
   ]
  },
  {
   "cell_type": "code",
   "execution_count": null,
   "id": "333ae88b",
   "metadata": {},
   "outputs": [],
   "source": [
    "#Extract Primary Bill Data from XML Files and Store in DataFrame\n",
    "def parsexml(xmlnamesraw, directoryxml):\n",
    "\n",
    "    xmlnamesraw=xmlnamesraw[['Name', 'Link', 'OfficialTitle','LegisType', 'BillStage']]\n",
    "    xmlnames=xmlnamesraw.set_index('Name')\n",
    "    xmlspon=pd.DataFrame(columns=[ 'BillID', 'SponsorLastName', 'SponsorFirstName', 'SponsorState', 'PrimaryOrCoSponsor'])\n",
    "    xmlcomm=pd.DataFrame(columns=[ 'BillID', 'CommittteeName'])\n",
    "    xmldate=pd.DataFrame(columns=[ 'BillID', 'Date'])\n",
    "    \n",
    "    headerpd=pd.DataFrame(columns=['BillID', 'BillName', 'Header','HeaderID', 'HeaderOrderID', 'Key', 'Text',  ])\n",
    "    billid=1\n",
    "    headerid=0\n",
    "    for billname in xmlnames.index:\n",
    "        filename=directoryxml + '/' + billname + '.xml';\n",
    "        tree = ET.parse(filename);\n",
    "        root = tree.getroot();\n",
    "        elements=[elem.tag for elem in root.iter()];\n",
    "        xmlnames.loc[billname, 'OfficialTitle']=iterroot(root, 'official-title', elements)[0];\n",
    "        xmlnames.loc[billname, 'LegisType']=iterroot(root,'legis-type', elements)[0];\n",
    "        \n",
    "        for var in root.iter('bill'):\n",
    "            xmlnames.loc[billname, 'BillStage']=var.attrib['bill-stage'];\n",
    "        \n",
    "        date=iterroot(root,'action-date', elements)\n",
    "        commit=iterroot(root,'committee-name',elements)\n",
    "        spon=iterroot(root,'sponsor',elements)\n",
    "        cospon=iterroot(root,'cosponsor',elements)\n",
    "        \n",
    "        for idval  in spon:\n",
    "            first, last, state = breaknames(idval, xmlnames);\n",
    "            xmlspon=xmlspon.append({ 'BillID':billid, 'SponsorLastName':last, 'SponsorFirstName':first, 'SponsorState':state, \n",
    "                                            'PrimaryOrCoSponsor':'Primary'}, ignore_index=True);\n",
    "        for idval  in cospon:\n",
    "            first, last, state = breaknames(idval, xmlnames);\n",
    "            xmlspon=xmlspon.append({ 'BillID':billid, 'SponsorLastName':last, 'SponsorFirstName':first, 'SponsorState':state, \n",
    "                                            'PrimaryOrCoSponsor':'Co'}, ignore_index=True);\n",
    "        for idval in date:\n",
    "             xmldate=xmldate.append({'BillID':billid, 'Date':idval}, ignore_index=True);\n",
    "        for idval in commit:\n",
    "            xmlcomm=xmlcomm.append({'BillID':billid, 'CommittteeName':idval}, ignore_index=True);\n",
    "      \n",
    "        lasttag=''\n",
    "        headerorder=0\n",
    "        for var in root.iter('*'):\n",
    "            tag=var.tag;\n",
    "            text=var.text;\n",
    "            if tag =='header':\n",
    "                headerorder=1\n",
    "                headerid=headerid+1\n",
    "                lasttag='header';\n",
    "                header=text;\n",
    "                headerpd=headerpd.append({'BillID':billid, 'BillName': billname, 'Header':header, 'HeaderID':headerid, 'HeaderOrderID':headerorder,\n",
    "                                          'Key':tag, 'Text':text}, ignore_index=True);\n",
    "            elif tag=='paragraph':\n",
    "                lasttag='paragraph';\n",
    "            elif lasttag=='header' and tag in ['text', 'quote', 'short-title', 'external-xref', 'quoted-block', 'term'] and str(text)!='None':\n",
    "                headerpd=headerpd.append({'BillID':billid, 'BillName': billname, 'Header':header, \n",
    "                                           'HeaderID':headerid, 'HeaderOrderID':headerorder, 'Key':tag, 'Text':text}, ignore_index=True);\n",
    "                headerorder=headerorder+1\n",
    "        billid=billid+1    \n",
    "    return xmlnames,  xmldate,  xmlspon, xmlcomm, headerpd"
   ]
  },
  {
   "cell_type": "markdown",
   "id": "dea2a463",
   "metadata": {},
   "source": [
    "# **Call Functions to Import & Store Legislator-Committee Relationship Data from a Text File**"
   ]
  },
  {
   "cell_type": "code",
   "execution_count": 7,
   "id": "7f6279b5",
   "metadata": {},
   "outputs": [],
   "source": [
    "username='joythompson'\n",
    "projfol=\"/Users/\"+username+\"/Desktop/DSE_203_JoyT/DSE_203_Final_Project_JoyT/\"\n",
    "rawdf=\"/Users/\"+username+\"/Desktop/DSE_203_JoyT/DSE_203_Final_Project_JoyT/Raw_Data_Files/\"\n",
    "directorybillmain=createfiledirectory(projfol+ 'Bill_Rep_Parsing_to_SQL_Main/')\n",
    "directorybillhead=createfiledirectory(projfol+ 'Bill_Parsing_Headers/')"
   ]
  },
  {
   "cell_type": "code",
   "execution_count": 8,
   "id": "f5dbb18d",
   "metadata": {},
   "outputs": [],
   "source": [
    "commlist= open(rawdf+ 'Committees.txt','r').read()\n",
    "reppd= loadrepdatafromxl(commlist)\n",
    "reppd.to_csv(directorybillmain +'/unique_legislator_committee_relationship_by_line.csv')"
   ]
  },
  {
   "cell_type": "markdown",
   "id": "8eed21af",
   "metadata": {},
   "source": [
    "# **Call Functions to Import & Store Primary Bill Data From Local XML Files**"
   ]
  },
  {
   "cell_type": "code",
   "execution_count": null,
   "id": "800afb91",
   "metadata": {},
   "outputs": [],
   "source": [
    "#textnames =pd.read_csv(rawbilldf+'bill_attributes_via_text_dataframe_only_index.csv')\n",
    "xmlnames = pd.read_csv(rawdf+ 'Bill_Data_from_HTML_XML/bill_attributes_via_xml_dataframe_only_index.csv')\n",
    "xmlnames, xmldate,  xmlspon, xmlcomm, headerpd=parsexml(xmlnames, rawbilldf+ 'DSE_project_xml')"
   ]
  },
  {
   "cell_type": "code",
   "execution_count": null,
   "id": "ad6562d2",
   "metadata": {},
   "outputs": [],
   "source": [
    "xmlnames.to_csv(directorybillmain+ 'bill_main_attributes.csv')\n",
    "xmlspon.to_csv(directorybillmain+ 'bill_sponcospon_attributes.csv')\n",
    "xmldate.to_csv(directorybillmain+ 'bill_date_attributes.csv')\n",
    "xmlcomm.to_csv(directorybillmain+ 'bill_committee_attributes.csv')\n",
    "headerpd.to_csv(directorybillhead+ 'header_text_by_bill_header_with_order.csv')"
   ]
  },
  {
   "cell_type": "markdown",
   "id": "175e50e5",
   "metadata": {},
   "source": [
    "# **Transform Stage and Sponsor Data for Neo4j**"
   ]
  },
  {
   "cell_type": "code",
   "execution_count": 6,
   "id": "2690dc61",
   "metadata": {},
   "outputs": [],
   "source": [
    "def addbillstage(filestring):\n",
    "    pdall=pd.read_csv(directorycleanneo+filestring)\n",
    "    for ind in pdall.index:\n",
    "        billid =pdall.loc[ind, 'billid']\n",
    "        if billid in stagebillrel.index:\n",
    "            pdall.loc[ind, 'billstage']=stagebillrel.loc[billid, 'billstage']\n",
    "            pdall.loc[ind, 'chambername']=stagebillrel.loc[billid, 'chambername']\n",
    "    return pdall\n",
    "\n",
    "def definecivilians(civall, civpd):\n",
    "    civall['civid']=''\n",
    "    for ind in civall.index:\n",
    "            last=civall.loc[ind, 'lastname']\n",
    "            first=civall.loc[ind, 'firstname']\n",
    "            if str(first)[0:3]!='nan' and first in civpd['firstname'].values:\n",
    "                civpd=civpd[civpd['firstname']==first]\n",
    "\n",
    "            if last in civpd['lastname'].values:\n",
    "                loc=civpd['lastname']==last\n",
    "                civid=civpd.loc[civpd['lastname']==last, 'civid']\n",
    "                civall.loc[ind, 'civid']=civid.values[0]\n",
    "    return civall"
   ]
  },
  {
   "cell_type": "code",
   "execution_count": 7,
   "id": "7101d741",
   "metadata": {},
   "outputs": [],
   "source": [
    "username='joythompson'\n",
    "projfol='/Users/'+username+'/Desktop/DSE_203_JoyT/DSE_203_Final_Project_JoyT/'\n",
    "directoryraw=projfol+'Raw_Data_Files/'\n",
    "directorysql=projfol+'Bill_Rep_Parsing_to_SQL_Main/'\n",
    "directorybillmain=projfol+ 'Bill_Parsing_Headers/'\n",
    "directorycleanneo=projfol+'Final_CSV_Files_for_NEO/'\n",
    "stagebillrel=pd.read_csv(directorycleanneo+ 'stage_rel_to_neo.csv').drop(columns=['link', 'officialtitle'])\n",
    "\n",
    "civpd=pd.read_csv(directorycleanneo+'civilians_to_neo.csv').drop(columns=['state'])\n",
    "repall=addbillstage('civilians_all.csv')\n",
    "civall=addbillstage('repsall.csv')\n",
    "civall=definecivilians(civall, civpd)\n",
    "repall.to_csv(directorycleanneo+'spon_rel_data_to_neo_reps.csv')\n",
    "civall.to_csv(directorycleanneo+'spon_rel_data_to_neo_civ.csv')"
   ]
  }
 ],
 "metadata": {
  "kernelspec": {
   "display_name": "Python 3 (ipykernel)",
   "language": "python",
   "name": "python3"
  },
  "language_info": {
   "codemirror_mode": {
    "name": "ipython",
    "version": 3
   },
   "file_extension": ".py",
   "mimetype": "text/x-python",
   "name": "python",
   "nbconvert_exporter": "python",
   "pygments_lexer": "ipython3",
   "version": "3.9.9"
  }
 },
 "nbformat": 4,
 "nbformat_minor": 5
}
